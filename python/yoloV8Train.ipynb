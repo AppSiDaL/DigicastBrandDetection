{
 "cells": [
  {
   "cell_type": "markdown",
   "metadata": {},
   "source": [
    "Installing dependencies"
   ]
  },
  {
   "cell_type": "code",
   "execution_count": null,
   "metadata": {},
   "outputs": [],
   "source": [
    "!pip install ultralytics"
   ]
  },
  {
   "cell_type": "code",
   "execution_count": null,
   "metadata": {},
   "outputs": [],
   "source": [
    "from ultralytics import YOLO\n",
    "import os\n",
    "from IPython.display import display, Image\n",
    "from IPython import display\n",
    "\n",
    "display.clear_output()\n",
    "!yolo checks"
   ]
  },
  {
   "cell_type": "code",
   "execution_count": null,
   "metadata": {},
   "outputs": [],
   "source": [
    "import zipfile\n",
    "\n",
    "ruta_archivo_zip = './Logo.v3i.yolov8.zip'\n",
    "\n",
    "carpeta_destino = './yolo'\n",
    "\n",
    "with zipfile.ZipFile(ruta_archivo_zip, 'r') as archivo_zip:\n",
    "    archivo_zip.extractall(carpeta_destino)\n",
    "\n",
    "print(\"Archivos descomprimidos en:\", carpeta_destino)"
   ]
  },
  {
   "cell_type": "code",
   "execution_count": null,
   "metadata": {},
   "outputs": [],
   "source": [
    "!yolo detect train data=./yolo/data.yaml model=yolov8n.pt epochs=100 imgsz=640 "
   ]
  },
  {
   "cell_type": "code",
   "execution_count": null,
   "metadata": {},
   "outputs": [],
   "source": [
    "import zipfile\n",
    "import os\n",
    "\n",
    "carpeta_a_comprimir = './runs'\n",
    "\n",
    "archivo_zip_salida = 'runs1.zip'\n",
    "\n",
    "# Crea un archivo ZIP en modo de escritura\n",
    "with zipfile.ZipFile(archivo_zip_salida, 'w', zipfile.ZIP_DEFLATED) as zipf:\n",
    "    for carpeta_actual, subcarpetas, archivos in os.walk(carpeta_a_comprimir):\n",
    "        for archivo in archivos:\n",
    "            ruta_completa = os.path.join(carpeta_actual, archivo)\n",
    "            zipf.write(ruta_completa, os.path.relpath(ruta_completa, carpeta_a_comprimir))\n",
    "\n",
    "print(\"Carpeta comprimida en:\", archivo_zip_salida)"
   ]
  }
 ],
 "metadata": {
  "language_info": {
   "name": "python"
  }
 },
 "nbformat": 4,
 "nbformat_minor": 2
}
