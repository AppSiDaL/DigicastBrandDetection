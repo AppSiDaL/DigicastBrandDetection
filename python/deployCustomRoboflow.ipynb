{
 "cells": [
  {
   "cell_type": "markdown",
   "metadata": {},
   "source": [
    "Installing Dependencies"
   ]
  },
  {
   "cell_type": "code",
   "execution_count": null,
   "metadata": {},
   "outputs": [],
   "source": [
    "!pip3 install roboflow\n",
    "!pip3 install ultralytics"
   ]
  },
  {
   "cell_type": "markdown",
   "metadata": {},
   "source": [
    "Descompress runs zip file"
   ]
  },
  {
   "cell_type": "code",
   "execution_count": null,
   "metadata": {},
   "outputs": [],
   "source": [
    "import zipfile\n",
    "\n",
    "ruta_archivo_zip = '/notebooks/runs.zip'\n",
    "\n",
    "carpeta_destino = './runs'\n",
    "\n",
    "with zipfile.ZipFile(ruta_archivo_zip, 'r') as archivo_zip:\n",
    "    archivo_zip.extractall(carpeta_destino)\n",
    "\n",
    "print(\"Archivos descomprimidos en:\", carpeta_destino)"
   ]
  },
  {
   "cell_type": "markdown",
   "metadata": {},
   "source": [
    "I shouldnt doing this but actually you need and apy key to your project."
   ]
  },
  {
   "cell_type": "code",
   "execution_count": null,
   "metadata": {},
   "outputs": [],
   "source": [
    "from roboflow import Roboflow\n",
    "\n",
    "rf = Roboflow(api_key=\"nF14XSoXj4sl5RKhIdMS\")\n",
    "project = rf.workspace().project(\"logo-rum5t\")\n",
    "version = project.version(3)\n",
    "version.deploy(\"yolov8\", \"/notebooks/runs/detect/train/\")"
   ]
  }
 ],
 "metadata": {
  "language_info": {
   "name": "python"
  }
 },
 "nbformat": 4,
 "nbformat_minor": 2
}
